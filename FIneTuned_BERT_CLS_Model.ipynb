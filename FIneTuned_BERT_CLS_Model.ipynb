{
 "cells": [
  {
   "cell_type": "markdown",
   "id": "cde23a72",
   "metadata": {},
   "source": [
    "# BERT Classification Model"
   ]
  },
  {
   "cell_type": "code",
   "execution_count": 1,
   "id": "c828b890",
   "metadata": {},
   "outputs": [],
   "source": [
    "import os\n",
    "import pandas as pd\n",
    "from datasets import Dataset\n",
    "from transformers import AutoTokenizer, AutoModelForSequenceClassification, TrainingArguments, Trainer\n",
    "import torch\n",
    "from sklearn.metrics import accuracy_score\n",
    "import re"
   ]
  },
  {
   "cell_type": "markdown",
   "id": "d4c0eb19",
   "metadata": {},
   "source": [
    "### Extracting data"
   ]
  },
  {
   "cell_type": "code",
   "execution_count": 4,
   "id": "5553127a",
   "metadata": {},
   "outputs": [
    {
     "data": {
      "text/plain": [
       "Dataset({\n",
       "    features: ['text', 'label', '__index_level_0__'],\n",
       "    num_rows: 39722\n",
       "})"
      ]
     },
     "execution_count": 4,
     "metadata": {},
     "output_type": "execute_result"
    }
   ],
   "source": [
    "filename = \"CLS_Dataset.csv\"\n",
    "filepath = os.path.abspath(filename)\n",
    "df = pd.read_csv(filepath)\n",
    "\n",
    "df[\"text\"] = df[\"text\"].astype(str)\n",
    "\n",
    "df = df[df[\"text\"].notnull() & df[\"text\"].str.strip() != \"\"]\n",
    "\n",
    "df = df.drop_duplicates(subset=[\"text\"])\n",
    "\n",
    "def clean_text(text):\n",
    "    return re.sub(r'[^a-zA-Z0-9\\s.,!?]', '', text)\n",
    "\n",
    "df[\"text\"] = df[\"text\"].apply(clean_text)\n",
    "df = df[df[\"text\"].str.split().apply(len) >= 5]\n",
    "\n",
    "dataset = Dataset.from_pandas(df)\n",
    "\n",
    "dataset"
   ]
  },
  {
   "cell_type": "markdown",
   "id": "da930941",
   "metadata": {},
   "source": [
    "### Creating Labels for Sentiments"
   ]
  },
  {
   "cell_type": "code",
   "execution_count": null,
   "id": "31c8f212",
   "metadata": {},
   "outputs": [],
   "source": [
    "labels_dict={0:\"Negative\",1:\"Positive\"}"
   ]
  },
  {
   "cell_type": "markdown",
   "id": "2ddb4368",
   "metadata": {},
   "source": [
    "## Class for BERT Classification"
   ]
  },
  {
   "cell_type": "code",
   "execution_count": null,
   "id": "d1ae1c92",
   "metadata": {},
   "outputs": [],
   "source": [
    "class BERTCLassification:\n",
    "\n",
    "    def __init__(self, modelname, col_name, num_labels):\n",
    "        self.modelname = modelname\n",
    "        self.text = col_name\n",
    "        self.num_labels = num_labels\n",
    "        self.tokenizer = AutoTokenizer.from_pretrained(self.modelname)\n",
    "        self.trainer = None\n",
    "\n",
    "    def encoding_data(self, dataset, batched=True, batch_size=2000):\n",
    "        def tokenize(batch):\n",
    "            return self.tokenizer(batch[self.text],padding=\"max_length\", truncation=True)\n",
    "        return dataset.map(tokenize,batched=batched, batch_size=batch_size )\n",
    "\n",
    "    def train(self, train, test, learning_rate, epochs):\n",
    "        \n",
    "        model = AutoModelForSequenceClassification.from_pretrained(self.modelname, num_labels=self.num_labels).to(device)\n",
    "\n",
    "        training_args = TrainingArguments(\n",
    "            output_dir='./results',\n",
    "            eval_strategy=\"epoch\",\n",
    "            save_strategy=\"epoch\",\n",
    "            learning_rate= learning_rate,\n",
    "            per_device_train_batch_size=2,\n",
    "            per_device_eval_batch_size=2,\n",
    "            num_train_epochs= epochs,\n",
    "            weight_decay=0.01,\n",
    "        )\n",
    "\n",
    "        def compute_metrics(eval_pred):\n",
    "            logits, labels = eval_pred\n",
    "            predictions = logits.argmax(axis=-1)\n",
    "            return {\"accuracy\": accuracy_score(labels, predictions)}\n",
    "\n",
    "        self.trainer = Trainer(\n",
    "            model= model,\n",
    "            args = training_args,\n",
    "            train_dataset= train,\n",
    "            eval_dataset= test,\n",
    "            compute_metrics= compute_metrics\n",
    "        )\n",
    "\n",
    "        self.trainer.train()\n",
    "\n",
    "    def evaluate(self):\n",
    "        return self.trainer.evaluate()\n",
    "    \n",
    "    def save_model(self, path):\n",
    "        self.trainer.save_model(path)\n",
    "        self.tokenizer.save_pretrained(path)"
   ]
  },
  {
   "cell_type": "code",
   "execution_count": null,
   "id": "39d86c6d",
   "metadata": {},
   "outputs": [],
   "source": [
    "device = torch.device(\"cuda\" if torch.cuda.is_available() else \"cpu\")\n",
    "print(f\"Using device: {device}\")"
   ]
  },
  {
   "cell_type": "code",
   "execution_count": null,
   "id": "b6cb6d3e",
   "metadata": {},
   "outputs": [
    {
     "name": "stderr",
     "output_type": "stream",
     "text": [
      "Map: 100%|██████████| 207201/207201 [00:42<00:00, 4874.41 examples/s]\n"
     ]
    }
   ],
   "source": [
    "bert_cls = BERTCLassification(\"distilbert-base-uncased\",\"Comment\",3)\n",
    "\n",
    "tokenzied_data = bert_cls.encoding_data(dataset, batch_size=3000)"
   ]
  },
  {
   "cell_type": "code",
   "execution_count": null,
   "id": "07914d15",
   "metadata": {},
   "outputs": [
    {
     "name": "stderr",
     "output_type": "stream",
     "text": [
      "Some weights of BertForSequenceClassification were not initialized from the model checkpoint at bert-base-uncased and are newly initialized: ['classifier.bias', 'classifier.weight']\n",
      "You should probably TRAIN this model on a down-stream task to be able to use it for predictions and inference.\n",
      "c:\\Users\\Admin\\Desktop\\Bert_Models\\BERT_Models_PT\\BERT_Models_PT_env\\Lib\\site-packages\\torch\\utils\\data\\dataloader.py:665: UserWarning: 'pin_memory' argument is set as true but no accelerator is found, then device pinned memory won't be used.\n",
      "  warnings.warn(warn_msg)\n"
     ]
    },
    {
     "data": {
      "text/html": [
       "\n",
       "    <div>\n",
       "      \n",
       "      <progress value='262' max='248640' style='width:300px; height:20px; vertical-align: middle;'></progress>\n",
       "      [   262/248640 29:52 < 475:47:22, 0.15 it/s, Epoch 0.00/3]\n",
       "    </div>\n",
       "    <table border=\"1\" class=\"dataframe\">\n",
       "  <thead>\n",
       " <tr style=\"text-align: left;\">\n",
       "      <th>Epoch</th>\n",
       "      <th>Training Loss</th>\n",
       "      <th>Validation Loss</th>\n",
       "    </tr>\n",
       "  </thead>\n",
       "  <tbody>\n",
       "  </tbody>\n",
       "</table><p>"
      ],
      "text/plain": [
       "<IPython.core.display.HTML object>"
      ]
     },
     "metadata": {},
     "output_type": "display_data"
    }
   ],
   "source": [
    "split = tokenzied_data.train_test_split(test_size=0.2,seed=42)\n",
    "\n",
    "trained = bert_cls.train(split[\"train\"],split['test'],2e-5,3)\n"
   ]
  },
  {
   "cell_type": "code",
   "execution_count": null,
   "id": "30440f12",
   "metadata": {},
   "outputs": [],
   "source": [
    "result = bert_cls.evaluate()\n",
    "result"
   ]
  },
  {
   "cell_type": "code",
   "execution_count": null,
   "id": "fffee06e",
   "metadata": {},
   "outputs": [],
   "source": [
    "bert_cls.save_model(\"./bert_cls_model\")"
   ]
  }
 ],
 "metadata": {
  "kernelspec": {
   "display_name": "BERT_Models_PT",
   "language": "python",
   "name": "bert-pt"
  },
  "language_info": {
   "codemirror_mode": {
    "name": "ipython",
    "version": 3
   },
   "file_extension": ".py",
   "mimetype": "text/x-python",
   "name": "python",
   "nbconvert_exporter": "python",
   "pygments_lexer": "ipython3",
   "version": "3.12.0"
  }
 },
 "nbformat": 4,
 "nbformat_minor": 5
}
