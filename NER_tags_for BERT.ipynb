{
 "cells": [
  {
   "cell_type": "code",
   "execution_count": 9,
   "id": "79817688",
   "metadata": {},
   "outputs": [],
   "source": [
    "import os\n",
    "import pandas as pd\n",
    "import spacy"
   ]
  },
  {
   "cell_type": "code",
   "execution_count": 10,
   "id": "b5e4cad6",
   "metadata": {},
   "outputs": [],
   "source": [
    "filename = \"synthetic_ner_health_data.csv\"\n",
    "filepath = os.path.abspath(filename)\n",
    "\n",
    "df = pd.read_csv(filepath)"
   ]
  },
  {
   "cell_type": "code",
   "execution_count": 11,
   "id": "db4d96d8",
   "metadata": {},
   "outputs": [
    {
     "name": "stdout",
     "output_type": "stream",
     "text": [
      "('CHEMICAL', 'DISEASE')\n"
     ]
    }
   ],
   "source": [
    "nlp = spacy.load(\"en_ner_bc5cdr_md\")\n",
    "print(nlp.get_pipe(\"ner\").labels)"
   ]
  },
  {
   "cell_type": "code",
   "execution_count": 12,
   "id": "8dfe628a",
   "metadata": {},
   "outputs": [],
   "source": [
    "nlp = spacy.load(\"en_ner_bc5cdr_md\")\n",
    "# nlp.pipe_names\n",
    "\n",
    "# ent = doc.ents[0]\n",
    "\n",
    "# print(dir(ent))\n",
    "\n",
    "def annotating(text):\n",
    "    doc = nlp(text)\n",
    "\n",
    "    annotation_dict = {}\n",
    "\n",
    "    symptons = [\"chest pain\", \"cough\", \"dizziness\", \"fatigue\", \"fever\", \"headache\", \"joint pain\", \"nausea\", \"shortness of breath\", \"sore throat\"]\n",
    "\n",
    "\n",
    "    for ent in doc.ents:\n",
    "        if ent.text.lower() in symptons and ent.label_ == \"DISEASE\":\n",
    "            annotation_dict[ent.text.lower()] = {\"start\":ent.start_char, \"end\":ent.end_char, \"label\":\"SYMPTON\"}\n",
    "        else:\n",
    "            annotation_dict[ent.text.lower()] = {\"start\":ent.start_char, \"end\":ent.end_char, \"label\":ent.label_}\n",
    "\n",
    "    return annotation_dict\n",
    "\n",
    "\n",
    "df[\"annotations\"] = df[\"text\"].apply(annotating)"
   ]
  },
  {
   "cell_type": "code",
   "execution_count": 13,
   "id": "5b4c11b6",
   "metadata": {},
   "outputs": [],
   "source": [
    "nlp = spacy.blank(\"en\")\n",
    "def tagging(row):\n",
    "    \n",
    "    doc = nlp(row[\"text\"].lower())\n",
    "\n",
    "    tokens = [token.text for token in doc]\n",
    "\n",
    "    ner_tags = []\n",
    "\n",
    "    for token in doc:\n",
    "        tag=\"O\"\n",
    "\n",
    "        for value in row[\"annotations\"].values():\n",
    "            char_start = value[\"start\"]\n",
    "            char_end = value[\"end\"]\n",
    "            label = value[\"label\"][:4]\n",
    "\n",
    "            if token.idx == char_start:\n",
    "                tag = f\"B-{label}\"\n",
    "            elif char_start<token.idx<char_end:\n",
    "                tag =f\"I-{label}\"\n",
    "\n",
    "        ner_tags.append(tag)\n",
    "\n",
    "    return tokens,ner_tags\n",
    "\n",
    "df[[\"tokens\",\"ner_tags\"]] = df[[\"text\",\"annotations\"]].apply(tagging, axis=1,result_type='expand')"
   ]
  },
  {
   "cell_type": "code",
   "execution_count": 14,
   "id": "bc07aca5",
   "metadata": {},
   "outputs": [],
   "source": [
    "tags_dict = {\"O\":0, \"B-CHEM\":1, \"I-CHEM\":2, \"B-DISE\":3, \"I-DISE\":4, \"B-SYMP\":5, \"I-SYMP\":6}\n",
    "\n",
    "def labels(ner_tags):\n",
    "    labels_list = []\n",
    "    for ner_tag in ner_tags:\n",
    "        labels_list.append(tags_dict[ner_tag])\n",
    "    return labels_list\n",
    "\n",
    "df[\"labels\"] = df[\"ner_tags\"].apply(labels)"
   ]
  },
  {
   "cell_type": "code",
   "execution_count": 15,
   "id": "ac8b9e74",
   "metadata": {},
   "outputs": [],
   "source": [
    "filename = \"TokenCLS_Dataset_with_ner_tags.csv\"\n",
    "filepath = os.path.abspath(filename)\n",
    "df[[\"tokens\",\"ner_tags\",\"labels\"]].to_csv(filepath, index=False)"
   ]
  },
  {
   "cell_type": "code",
   "execution_count": 16,
   "id": "4173233d",
   "metadata": {},
   "outputs": [],
   "source": [
    "filename = \"TokenCLS_Dataset.csv\"\n",
    "filepath = os.path.abspath(filename)\n",
    "df[[\"tokens\",\"labels\"]].to_csv(filepath, index=False)"
   ]
  }
 ],
 "metadata": {
  "kernelspec": {
   "display_name": "BERT_Models_PT",
   "language": "python",
   "name": "bert-pt"
  },
  "language_info": {
   "codemirror_mode": {
    "name": "ipython",
    "version": 3
   },
   "file_extension": ".py",
   "mimetype": "text/x-python",
   "name": "python",
   "nbconvert_exporter": "python",
   "pygments_lexer": "ipython3",
   "version": "3.12.0"
  }
 },
 "nbformat": 4,
 "nbformat_minor": 5
}
